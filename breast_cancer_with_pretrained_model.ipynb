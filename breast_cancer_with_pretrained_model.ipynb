{
 "cells": [
  {
   "cell_type": "code",
   "execution_count": 61,
   "metadata": {},
   "outputs": [],
   "source": [
    "import warnings\n",
    "warnings.filterwarnings(\"ignore\", category=DeprecationWarning)\n",
    "warnings.filterwarnings(\"ignore\", category=UserWarning)\n",
    "warnings.filterwarnings(\"ignore\", category=FutureWarning)\n",
    "\n",
    "from sklearn.model_selection import train_test_split\n",
    "from sklearn.metrics import classification_report, confusion_matrix\n",
    "\n",
    "from glob import glob\n",
    "from skimage.io import imread\n",
    "from os import listdir\n",
    "import seaborn as sns\n",
    "sns.set()\n",
    "\n",
    "import tensorflow as tf\n",
    "import os\n",
    "import numpy as np\n",
    "import pandas as pd\n",
    "import matplotlib.pyplot as plt\n",
    "%matplotlib inline\n",
    "\n",
    "from tensorflow.keras.preprocessing import image\n",
    "from tensorflow import keras\n",
    "from tensorflow.keras import layers\n",
    "from keras.preprocessing.image import ImageDataGenerator\n",
    "import cv2\n",
    "from PIL import Image"
   ]
  },
  {
   "cell_type": "markdown",
   "metadata": {},
   "source": [
    "## Load Dataset and Preprocess Data"
   ]
  },
  {
   "cell_type": "code",
   "execution_count": 2,
   "metadata": {},
   "outputs": [
    {
     "data": {
      "text/plain": [
       "279"
      ]
     },
     "execution_count": 2,
     "metadata": {},
     "output_type": "execute_result"
    }
   ],
   "source": [
    "base_path = \"D:/university/concordia/Winter 22/Machine Learning/Project/breast cancer/dataset/\"\n",
    "folder = listdir(base_path)\n",
    "len(folder)"
   ]
  },
  {
   "cell_type": "code",
   "execution_count": 3,
   "metadata": {},
   "outputs": [
    {
     "data": {
      "text/plain": [
       "277524"
      ]
     },
     "execution_count": 3,
     "metadata": {},
     "output_type": "execute_result"
    }
   ],
   "source": [
    "total_images = 0\n",
    "for n in range(len(folder)):\n",
    "    patient_id = folder[n]\n",
    "    for c in [0, 1]:\n",
    "        patient_path = base_path + patient_id \n",
    "        class_path = patient_path + \"/\" + str(c) + \"/\"\n",
    "        subfiles = listdir(class_path)\n",
    "        total_images += len(subfiles)\n",
    "        \n",
    "total_images"
   ]
  },
  {
   "cell_type": "markdown",
   "metadata": {},
   "source": [
    "Creating root dataframe with all data including the information of their patient id, image path and target."
   ]
  },
  {
   "cell_type": "code",
   "execution_count": 4,
   "metadata": {},
   "outputs": [
    {
     "data": {
      "text/html": [
       "<div>\n",
       "<style scoped>\n",
       "    .dataframe tbody tr th:only-of-type {\n",
       "        vertical-align: middle;\n",
       "    }\n",
       "\n",
       "    .dataframe tbody tr th {\n",
       "        vertical-align: top;\n",
       "    }\n",
       "\n",
       "    .dataframe thead th {\n",
       "        text-align: right;\n",
       "    }\n",
       "</style>\n",
       "<table border=\"1\" class=\"dataframe\">\n",
       "  <thead>\n",
       "    <tr style=\"text-align: right;\">\n",
       "      <th></th>\n",
       "      <th>patient_id</th>\n",
       "      <th>path</th>\n",
       "      <th>target</th>\n",
       "    </tr>\n",
       "  </thead>\n",
       "  <tbody>\n",
       "    <tr>\n",
       "      <th>0</th>\n",
       "      <td>10253</td>\n",
       "      <td>D:/university/concordia/Winter 22/Machine Lear...</td>\n",
       "      <td>0</td>\n",
       "    </tr>\n",
       "    <tr>\n",
       "      <th>1</th>\n",
       "      <td>10253</td>\n",
       "      <td>D:/university/concordia/Winter 22/Machine Lear...</td>\n",
       "      <td>0</td>\n",
       "    </tr>\n",
       "    <tr>\n",
       "      <th>2</th>\n",
       "      <td>10253</td>\n",
       "      <td>D:/university/concordia/Winter 22/Machine Lear...</td>\n",
       "      <td>0</td>\n",
       "    </tr>\n",
       "    <tr>\n",
       "      <th>3</th>\n",
       "      <td>10253</td>\n",
       "      <td>D:/university/concordia/Winter 22/Machine Lear...</td>\n",
       "      <td>0</td>\n",
       "    </tr>\n",
       "    <tr>\n",
       "      <th>4</th>\n",
       "      <td>10253</td>\n",
       "      <td>D:/university/concordia/Winter 22/Machine Lear...</td>\n",
       "      <td>0</td>\n",
       "    </tr>\n",
       "  </tbody>\n",
       "</table>\n",
       "</div>"
      ],
      "text/plain": [
       "  patient_id                                               path target\n",
       "0      10253  D:/university/concordia/Winter 22/Machine Lear...      0\n",
       "1      10253  D:/university/concordia/Winter 22/Machine Lear...      0\n",
       "2      10253  D:/university/concordia/Winter 22/Machine Lear...      0\n",
       "3      10253  D:/university/concordia/Winter 22/Machine Lear...      0\n",
       "4      10253  D:/university/concordia/Winter 22/Machine Lear...      0"
      ]
     },
     "execution_count": 4,
     "metadata": {},
     "output_type": "execute_result"
    }
   ],
   "source": [
    "data = pd.DataFrame(index=np.arange(0, total_images), columns=[\"patient_id\", \"path\", \"target\"])\n",
    "\n",
    "k = 0\n",
    "for n in range(len(folder)):\n",
    "    patient_id = folder[n]\n",
    "    patient_path = base_path + patient_id \n",
    "    for c in [0,1]:\n",
    "        class_path = patient_path + \"/\" + str(c) + \"/\"\n",
    "        subfiles = listdir(class_path)\n",
    "        for m in range(len(subfiles)):\n",
    "            image_path = subfiles[m]\n",
    "            data.iloc[k][\"path\"] = class_path + image_path\n",
    "            data.iloc[k][\"target\"] = c\n",
    "            data.iloc[k][\"patient_id\"] = patient_id\n",
    "            k += 1  \n",
    "\n",
    "data.head()"
   ]
  },
  {
   "cell_type": "markdown",
   "metadata": {},
   "source": [
    "First create non_cancer_data & cancer_data. Then, merged them in sliced_data."
   ]
  },
  {
   "cell_type": "code",
   "execution_count": 5,
   "metadata": {},
   "outputs": [
    {
     "name": "stdout",
     "output_type": "stream",
     "text": [
      "0    2000\n",
      "Name: target, dtype: int64\n",
      "1    2000\n",
      "Name: target, dtype: int64\n",
      "1    2000\n",
      "0    2000\n",
      "Name: target, dtype: int64\n"
     ]
    }
   ],
   "source": [
    "non_cancer_data = data.query(\"target == 0\").head(2000)\n",
    "print(non_cancer_data['target'].value_counts())\n",
    "cancer_data = data.query(\"target == 1\").head(2000)\n",
    "print(cancer_data['target'].value_counts())\n",
    "sliced_data = pd.concat([non_cancer_data,cancer_data])\n",
    "print(sliced_data['target'].value_counts())"
   ]
  },
  {
   "cell_type": "code",
   "execution_count": 6,
   "metadata": {},
   "outputs": [
    {
     "name": "stdout",
     "output_type": "stream",
     "text": [
      "1    2000\n",
      "0    2000\n",
      "Name: target, dtype: int64\n"
     ]
    }
   ],
   "source": [
    "print(sliced_data['target'].value_counts())"
   ]
  },
  {
   "cell_type": "code",
   "execution_count": 7,
   "metadata": {},
   "outputs": [
    {
     "data": {
      "text/plain": [
       "array([0, 1], dtype=object)"
      ]
     },
     "execution_count": 7,
     "metadata": {},
     "output_type": "execute_result"
    }
   ],
   "source": [
    "sliced_data.target.unique()"
   ]
  },
  {
   "cell_type": "code",
   "execution_count": 8,
   "metadata": {},
   "outputs": [
    {
     "data": {
      "text/plain": [
       "(4000, 3)"
      ]
     },
     "execution_count": 8,
     "metadata": {},
     "output_type": "execute_result"
    }
   ],
   "source": [
    "sliced_data.shape"
   ]
  },
  {
   "cell_type": "code",
   "execution_count": 9,
   "metadata": {},
   "outputs": [
    {
     "name": "stdout",
     "output_type": "stream",
     "text": [
      "<class 'pandas.core.frame.DataFrame'>\n",
      "Int64Index: 4000 entries, 0 to 9253\n",
      "Data columns (total 3 columns):\n",
      " #   Column      Non-Null Count  Dtype \n",
      "---  ------      --------------  ----- \n",
      " 0   patient_id  4000 non-null   object\n",
      " 1   path        4000 non-null   object\n",
      " 2   target      4000 non-null   object\n",
      "dtypes: object(3)\n",
      "memory usage: 125.0+ KB\n"
     ]
    }
   ],
   "source": [
    "sliced_data.head()\n",
    "sliced_data.loc[:, \"target\"] = data.target.astype(np.str)\n",
    "sliced_data.info()"
   ]
  },
  {
   "cell_type": "code",
   "execution_count": 10,
   "metadata": {},
   "outputs": [],
   "source": [
    "unique_paths = sliced_data.path.unique()"
   ]
  },
  {
   "cell_type": "code",
   "execution_count": 11,
   "metadata": {},
   "outputs": [],
   "source": [
    "sub_train_ids, test_ids = train_test_split(unique_paths,\n",
    "                                           test_size=0.2,\n",
    "                                           random_state=0)\n",
    "train_ids, valid_ids = train_test_split(sub_train_ids, test_size=0.1, random_state=0)"
   ]
  },
  {
   "cell_type": "code",
   "execution_count": 12,
   "metadata": {},
   "outputs": [
    {
     "name": "stdout",
     "output_type": "stream",
     "text": [
      "Now, we're taking 72.0% for training, 8.0% for validation, 20.0% for testing\n"
     ]
    }
   ],
   "source": [
    "print(f\"Now, we're taking {round(len(train_ids)/unique_paths.shape[0]*100, 1)}% for training, {round(len(valid_ids)/unique_paths.shape[0]*100,1)}% for validation, {round(len(test_ids)/unique_paths.shape[0]*100,1)}% for testing\")"
   ]
  },
  {
   "cell_type": "code",
   "execution_count": 13,
   "metadata": {},
   "outputs": [
    {
     "name": "stdout",
     "output_type": "stream",
     "text": [
      "2880, 320, 800\n"
     ]
    }
   ],
   "source": [
    "print(f'{len(train_ids)}, {len(valid_ids)}, {len(test_ids)}')"
   ]
  },
  {
   "cell_type": "code",
   "execution_count": 14,
   "metadata": {},
   "outputs": [
    {
     "name": "stdout",
     "output_type": "stream",
     "text": [
      "train set shape: (2880, 3)\n",
      "test set shape: (800, 3)\n",
      "validation set shape: (320, 3)\n"
     ]
    }
   ],
   "source": [
    "train_df = sliced_data.loc[sliced_data.path.isin(train_ids),:].copy()\n",
    "test_df = sliced_data.loc[sliced_data.path.isin(test_ids),:].copy()\n",
    "valid_df = sliced_data.loc[sliced_data.path.isin(valid_ids),:].copy()\n",
    "\n",
    "print(f\"train set shape: {train_df.shape}\")\n",
    "print(f\"test set shape: {test_df.shape}\")\n",
    "print(f\"validation set shape: {valid_df.shape}\")"
   ]
  },
  {
   "cell_type": "markdown",
   "metadata": {},
   "source": [
    "Reseting index for each dataset. Because, we're creating three dataset by slicing the root dataframe. After slicing it, each dataset's index will be scattered and will have the index of root dataframe."
   ]
  },
  {
   "cell_type": "code",
   "execution_count": 86,
   "metadata": {},
   "outputs": [],
   "source": [
    "train_df.reset_index(drop=True, inplace=True)\n",
    "test_df.reset_index(drop=True, inplace=True)\n",
    "valid_df.reset_index(drop=True, inplace=True)"
   ]
  },
  {
   "cell_type": "markdown",
   "metadata": {},
   "source": [
    "Creating image data generator for each dataset"
   ]
  },
  {
   "cell_type": "code",
   "execution_count": 15,
   "metadata": {},
   "outputs": [],
   "source": [
    "train_datagen = ImageDataGenerator(rescale = 1./255,\n",
    "                                   rotation_range = 40, \n",
    "                                   width_shift_range = 0.2, \n",
    "                                   height_shift_range = 0.2, \n",
    "                                   shear_range = 0.2, \n",
    "                                   zoom_range = 0.2, \n",
    "                                   horizontal_flip = True, \n",
    "                                   vertical_flip =True)\n",
    "test_datagen = ImageDataGenerator(rescale = 1./255)\n",
    "valid_datagen = ImageDataGenerator(rescale = 1./255)"
   ]
  },
  {
   "cell_type": "code",
   "execution_count": 16,
   "metadata": {},
   "outputs": [],
   "source": [
    "target_size = (224,224)\n",
    "batch_size = 64"
   ]
  },
  {
   "cell_type": "code",
   "execution_count": 17,
   "metadata": {},
   "outputs": [
    {
     "name": "stdout",
     "output_type": "stream",
     "text": [
      "Found 2880 validated image filenames belonging to 2 classes.\n",
      "Found 320 validated image filenames belonging to 2 classes.\n",
      "Found 800 validated image filenames belonging to 2 classes.\n"
     ]
    }
   ],
   "source": [
    "train_batches = train_datagen.flow_from_dataframe(\n",
    "    train_df,\n",
    "    x_col = 'path', \n",
    "    y_col ='target',\n",
    "    target_size=target_size,\n",
    "    batch_size=batch_size,\n",
    "    class_mode='binary',\n",
    "    shuffle=True,\n",
    ")\n",
    "\n",
    "valid_batches = valid_datagen.flow_from_dataframe(\n",
    "    valid_df,\n",
    "    x_col = 'path', \n",
    "    y_col ='target',\n",
    "    target_size=target_size,\n",
    "    batch_size=batch_size,\n",
    "    class_mode='binary',\n",
    "    shuffle=True,\n",
    ")\n",
    "\n",
    "test_batches = test_datagen.flow_from_dataframe(\n",
    "    test_df,\n",
    "    x_col = 'path', \n",
    "    y_col ='target',\n",
    "    target_size=target_size,\n",
    "    batch_size=batch_size,\n",
    "    class_mode='binary',\n",
    "    shuffle=False,\n",
    ")"
   ]
  },
  {
   "cell_type": "markdown",
   "metadata": {},
   "source": [
    "### Target distributions \n",
    "Let's take a look at the target distribution difference of the datasets:"
   ]
  },
  {
   "cell_type": "code",
   "execution_count": 18,
   "metadata": {},
   "outputs": [
    {
     "data": {
      "image/png": "[encoded data removed]",
      "text/plain": [
       "<Figure size 1440x360 with 3 Axes>"
      ]
     },
     "metadata": {
      "needs_background": "light"
     },
     "output_type": "display_data"
    }
   ],
   "source": [
    "fig, ax = plt.subplots(1,3,figsize=(20,5))\n",
    "sns.countplot(train_df.target, ax=ax[0], palette=\"Reds\")\n",
    "ax[0].set_title(\"Train data\")\n",
    "sns.countplot(valid_df.target, ax=ax[1], palette=\"Blues\")\n",
    "ax[1].set_title(\"Valid data\")\n",
    "sns.countplot(test_df.target, ax=ax[2], palette=\"Greens\");\n",
    "ax[2].set_title(\"Test data\");"
   ]
  },
  {
   "cell_type": "markdown",
   "metadata": {},
   "source": [
    "## VGG16"
   ]
  },
  {
   "cell_type": "markdown",
   "metadata": {},
   "source": [
    "### Model creation"
   ]
  },
  {
   "cell_type": "markdown",
   "metadata": {},
   "source": [
    "Load VGG model with imagenet trained weights and without classifier/fully connected layers. We will use this as feature extractor. "
   ]
  },
  {
   "cell_type": "code",
   "execution_count": 19,
   "metadata": {},
   "outputs": [
    {
     "name": "stdout",
     "output_type": "stream",
     "text": [
      "<class 'keras.engine.functional.Functional'>\n"
     ]
    }
   ],
   "source": [
    "vgg_base_model = tf.keras.applications.vgg16.VGG16(\n",
    "    weights='imagenet', # Load weights pre-trained on ImageNet.\n",
    "    input_shape=(224, 224, 3),\n",
    ")\n",
    "print(type(vgg_base_model))"
   ]
  },
  {
   "cell_type": "markdown",
   "metadata": {},
   "source": [
    "Make loaded layers as non-trainable. This is important as we want to work with pre-trained weights."
   ]
  },
  {
   "cell_type": "code",
   "execution_count": 20,
   "metadata": {},
   "outputs": [
    {
     "name": "stdout",
     "output_type": "stream",
     "text": [
      "Model: \"vgg16\"\n",
      "_________________________________________________________________\n",
      " Layer (type)                Output Shape              Param #   \n",
      "=================================================================\n",
      " input_1 (InputLayer)        [(None, 224, 224, 3)]     0         \n",
      "                                                                 \n",
      " block1_conv1 (Conv2D)       (None, 224, 224, 64)      1792      \n",
      "                                                                 \n",
      " block1_conv2 (Conv2D)       (None, 224, 224, 64)      36928     \n",
      "                                                                 \n",
      " block1_pool (MaxPooling2D)  (None, 112, 112, 64)      0         \n",
      "                                                                 \n",
      " block2_conv1 (Conv2D)       (None, 112, 112, 128)     73856     \n",
      "                                                                 \n",
      " block2_conv2 (Conv2D)       (None, 112, 112, 128)     147584    \n",
      "                                                                 \n",
      " block2_pool (MaxPooling2D)  (None, 56, 56, 128)       0         \n",
      "                                                                 \n",
      " block3_conv1 (Conv2D)       (None, 56, 56, 256)       295168    \n",
      "                                                                 \n",
      " block3_conv2 (Conv2D)       (None, 56, 56, 256)       590080    \n",
      "                                                                 \n",
      " block3_conv3 (Conv2D)       (None, 56, 56, 256)       590080    \n",
      "                                                                 \n",
      " block3_pool (MaxPooling2D)  (None, 28, 28, 256)       0         \n",
      "                                                                 \n",
      " block4_conv1 (Conv2D)       (None, 28, 28, 512)       1180160   \n",
      "                                                                 \n",
      " block4_conv2 (Conv2D)       (None, 28, 28, 512)       2359808   \n",
      "                                                                 \n",
      " block4_conv3 (Conv2D)       (None, 28, 28, 512)       2359808   \n",
      "                                                                 \n",
      " block4_pool (MaxPooling2D)  (None, 14, 14, 512)       0         \n",
      "                                                                 \n",
      " block5_conv1 (Conv2D)       (None, 14, 14, 512)       2359808   \n",
      "                                                                 \n",
      " block5_conv2 (Conv2D)       (None, 14, 14, 512)       2359808   \n",
      "                                                                 \n",
      " block5_conv3 (Conv2D)       (None, 14, 14, 512)       2359808   \n",
      "                                                                 \n",
      " block5_pool (MaxPooling2D)  (None, 7, 7, 512)         0         \n",
      "                                                                 \n",
      " flatten (Flatten)           (None, 25088)             0         \n",
      "                                                                 \n",
      " fc1 (Dense)                 (None, 4096)              102764544 \n",
      "                                                                 \n",
      " fc2 (Dense)                 (None, 4096)              16781312  \n",
      "                                                                 \n",
      " predictions (Dense)         (None, 1000)              4097000   \n",
      "                                                                 \n",
      "=================================================================\n",
      "Total params: 138,357,544\n",
      "Trainable params: 0\n",
      "Non-trainable params: 138,357,544\n",
      "_________________________________________________________________\n"
     ]
    }
   ],
   "source": [
    "for layer in vgg_base_model.layers:\n",
    "    layer.trainable = False\n",
    "vgg_base_model.summary()"
   ]
  },
  {
   "cell_type": "markdown",
   "metadata": {},
   "source": [
    "Add all layers to model except the output layer."
   ]
  },
  {
   "cell_type": "code",
   "execution_count": 21,
   "metadata": {},
   "outputs": [],
   "source": [
    "vgg_model = keras.models.Sequential()\n",
    "for layer in vgg_base_model.layers[0:-1]:\n",
    "    vgg_model.add(layer)"
   ]
  },
  {
   "cell_type": "markdown",
   "metadata": {},
   "source": [
    "Add a last classification layer"
   ]
  },
  {
   "cell_type": "code",
   "execution_count": 22,
   "metadata": {},
   "outputs": [],
   "source": [
    "vgg_model.add(layers.Dense(1, activation=\"sigmoid\", name='output'))"
   ]
  },
  {
   "cell_type": "code",
   "execution_count": 23,
   "metadata": {},
   "outputs": [
    {
     "name": "stdout",
     "output_type": "stream",
     "text": [
      "Model: \"sequential\"\n",
      "_________________________________________________________________\n",
      " Layer (type)                Output Shape              Param #   \n",
      "=================================================================\n",
      " block1_conv1 (Conv2D)       (None, 224, 224, 64)      1792      \n",
      "                                                                 \n",
      " block1_conv2 (Conv2D)       (None, 224, 224, 64)      36928     \n",
      "                                                                 \n",
      " block1_pool (MaxPooling2D)  (None, 112, 112, 64)      0         \n",
      "                                                                 \n",
      " block2_conv1 (Conv2D)       (None, 112, 112, 128)     73856     \n",
      "                                                                 \n",
      " block2_conv2 (Conv2D)       (None, 112, 112, 128)     147584    \n",
      "                                                                 \n",
      " block2_pool (MaxPooling2D)  (None, 56, 56, 128)       0         \n",
      "                                                                 \n",
      " block3_conv1 (Conv2D)       (None, 56, 56, 256)       295168    \n",
      "                                                                 \n",
      " block3_conv2 (Conv2D)       (None, 56, 56, 256)       590080    \n",
      "                                                                 \n",
      " block3_conv3 (Conv2D)       (None, 56, 56, 256)       590080    \n",
      "                                                                 \n",
      " block3_pool (MaxPooling2D)  (None, 28, 28, 256)       0         \n",
      "                                                                 \n",
      " block4_conv1 (Conv2D)       (None, 28, 28, 512)       1180160   \n",
      "                                                                 \n",
      " block4_conv2 (Conv2D)       (None, 28, 28, 512)       2359808   \n",
      "                                                                 \n",
      " block4_conv3 (Conv2D)       (None, 28, 28, 512)       2359808   \n",
      "                                                                 \n",
      " block4_pool (MaxPooling2D)  (None, 14, 14, 512)       0         \n",
      "                                                                 \n",
      " block5_conv1 (Conv2D)       (None, 14, 14, 512)       2359808   \n",
      "                                                                 \n",
      " block5_conv2 (Conv2D)       (None, 14, 14, 512)       2359808   \n",
      "                                                                 \n",
      " block5_conv3 (Conv2D)       (None, 14, 14, 512)       2359808   \n",
      "                                                                 \n",
      " block5_pool (MaxPooling2D)  (None, 7, 7, 512)         0         \n",
      "                                                                 \n",
      " flatten (Flatten)           (None, 25088)             0         \n",
      "                                                                 \n",
      " fc1 (Dense)                 (None, 4096)              102764544 \n",
      "                                                                 \n",
      " fc2 (Dense)                 (None, 4096)              16781312  \n",
      "                                                                 \n",
      " output (Dense)              (None, 1)                 4097      \n",
      "                                                                 \n",
      "=================================================================\n",
      "Total params: 134,264,641\n",
      "Trainable params: 4,097\n",
      "Non-trainable params: 134,260,544\n",
      "_________________________________________________________________\n"
     ]
    }
   ],
   "source": [
    "vgg_model.summary()"
   ]
  },
  {
   "cell_type": "markdown",
   "metadata": {},
   "source": [
    "### Training"
   ]
  },
  {
   "cell_type": "markdown",
   "metadata": {},
   "source": [
    "Loss and Optimizer"
   ]
  },
  {
   "cell_type": "code",
   "execution_count": 24,
   "metadata": {},
   "outputs": [],
   "source": [
    "vgg_model.compile(loss='binary_crossentropy', optimizer=keras.optimizers.Adam(learning_rate= 0.0001), metrics=['accuracy'])"
   ]
  },
  {
   "cell_type": "markdown",
   "metadata": {},
   "source": [
    "Callbacks"
   ]
  },
  {
   "cell_type": "code",
   "execution_count": 25,
   "metadata": {},
   "outputs": [],
   "source": [
    "model_checkpoints = tf.keras.callbacks.ModelCheckpoint(\n",
    "    \"Breast_Cancer_VGG16_model.weights.best.h5\", \n",
    "    save_best_only=True, \n",
    "    verbose = 1, \n",
    "    mode='max', \n",
    "    monitor='val_accuracy'\n",
    ")\n",
    "early_stopping = keras.callbacks.EarlyStopping(\n",
    "    monitor=\"val_accuracy\",\n",
    "    mode=\"max\",\n",
    "    patience=5,\n",
    "    verbose=1\n",
    ")\n",
    "\n",
    "callbacks = [\n",
    "    model_checkpoints,\n",
    "    early_stopping\n",
    "]"
   ]
  },
  {
   "cell_type": "markdown",
   "metadata": {},
   "source": [
    "History"
   ]
  },
  {
   "cell_type": "code",
   "execution_count": 27,
   "metadata": {},
   "outputs": [
    {
     "name": "stdout",
     "output_type": "stream",
     "text": [
      "Epoch 1/100\n",
      "45/45 [==============================] - ETA: 0s - loss: 0.6597 - accuracy: 0.6368\n",
      "Epoch 1: val_accuracy improved from -inf to 0.70000, saving model to Breast_Cancer_VGG16_model.weights.best.h5\n",
      "45/45 [==============================] - 326s 7s/step - loss: 0.6597 - accuracy: 0.6368 - val_loss: 0.6496 - val_accuracy: 0.7000\n",
      "Epoch 2/100\n",
      "45/45 [==============================] - ETA: 0s - loss: 0.6032 - accuracy: 0.7521\n",
      "Epoch 2: val_accuracy improved from 0.70000 to 0.74063, saving model to Breast_Cancer_VGG16_model.weights.best.h5\n",
      "45/45 [==============================] - 325s 7s/step - loss: 0.6032 - accuracy: 0.7521 - val_loss: 0.6154 - val_accuracy: 0.7406\n",
      "Epoch 3/100\n",
      "45/45 [==============================] - ETA: 0s - loss: 0.5620 - accuracy: 0.7747\n",
      "Epoch 3: val_accuracy improved from 0.74063 to 0.76875, saving model to Breast_Cancer_VGG16_model.weights.best.h5\n",
      "45/45 [==============================] - 340s 8s/step - loss: 0.5620 - accuracy: 0.7747 - val_loss: 0.5886 - val_accuracy: 0.7688\n",
      "Epoch 4/100\n",
      "45/45 [==============================] - ETA: 0s - loss: 0.5328 - accuracy: 0.7872\n",
      "Epoch 4: val_accuracy improved from 0.76875 to 0.79062, saving model to Breast_Cancer_VGG16_model.weights.best.h5\n",
      "45/45 [==============================] - 331s 7s/step - loss: 0.5328 - accuracy: 0.7872 - val_loss: 0.5681 - val_accuracy: 0.7906\n",
      "Epoch 5/100\n",
      "45/45 [==============================] - ETA: 0s - loss: 0.5084 - accuracy: 0.7997\n",
      "Epoch 5: val_accuracy did not improve from 0.79062\n",
      "45/45 [==============================] - 333s 7s/step - loss: 0.5084 - accuracy: 0.7997 - val_loss: 0.5519 - val_accuracy: 0.7906\n",
      "Epoch 6/100\n",
      "45/45 [==============================] - ETA: 0s - loss: 0.4932 - accuracy: 0.7955\n",
      "Epoch 6: val_accuracy improved from 0.79062 to 0.80313, saving model to Breast_Cancer_VGG16_model.weights.best.h5\n",
      "45/45 [==============================] - 299s 7s/step - loss: 0.4932 - accuracy: 0.7955 - val_loss: 0.5395 - val_accuracy: 0.8031\n",
      "Epoch 7/100\n",
      "45/45 [==============================] - ETA: 0s - loss: 0.4776 - accuracy: 0.8059\n",
      "Epoch 7: val_accuracy did not improve from 0.80313\n",
      "45/45 [==============================] - 294s 7s/step - loss: 0.4776 - accuracy: 0.8059 - val_loss: 0.5281 - val_accuracy: 0.7969\n",
      "Epoch 8/100\n",
      "45/45 [==============================] - ETA: 0s - loss: 0.4680 - accuracy: 0.8073\n",
      "Epoch 8: val_accuracy did not improve from 0.80313\n",
      "45/45 [==============================] - 290s 6s/step - loss: 0.4680 - accuracy: 0.8073 - val_loss: 0.5197 - val_accuracy: 0.7906\n",
      "Epoch 9/100\n",
      "45/45 [==============================] - ETA: 0s - loss: 0.4555 - accuracy: 0.8104\n",
      "Epoch 9: val_accuracy did not improve from 0.80313\n",
      "45/45 [==============================] - 292s 6s/step - loss: 0.4555 - accuracy: 0.8104 - val_loss: 0.5119 - val_accuracy: 0.8031\n",
      "Epoch 10/100\n",
      "45/45 [==============================] - ETA: 0s - loss: 0.4521 - accuracy: 0.8083\n",
      "Epoch 10: val_accuracy did not improve from 0.80313\n",
      "45/45 [==============================] - 289s 6s/step - loss: 0.4521 - accuracy: 0.8083 - val_loss: 0.5060 - val_accuracy: 0.7875\n",
      "Epoch 11/100\n",
      "45/45 [==============================] - ETA: 0s - loss: 0.4447 - accuracy: 0.8108\n",
      "Epoch 11: val_accuracy improved from 0.80313 to 0.80937, saving model to Breast_Cancer_VGG16_model.weights.best.h5\n",
      "45/45 [==============================] - 290s 6s/step - loss: 0.4447 - accuracy: 0.8108 - val_loss: 0.4988 - val_accuracy: 0.8094\n",
      "Epoch 12/100\n",
      "45/45 [==============================] - ETA: 0s - loss: 0.4346 - accuracy: 0.8153\n",
      "Epoch 12: val_accuracy did not improve from 0.80937\n",
      "45/45 [==============================] - 291s 6s/step - loss: 0.4346 - accuracy: 0.8153 - val_loss: 0.4963 - val_accuracy: 0.7906\n",
      "Epoch 13/100\n",
      "45/45 [==============================] - ETA: 0s - loss: 0.4274 - accuracy: 0.8170\n",
      "Epoch 13: val_accuracy did not improve from 0.80937\n",
      "45/45 [==============================] - 291s 6s/step - loss: 0.4274 - accuracy: 0.8170 - val_loss: 0.4907 - val_accuracy: 0.7969\n",
      "Epoch 14/100\n",
      "45/45 [==============================] - ETA: 0s - loss: 0.4263 - accuracy: 0.8188\n",
      "Epoch 14: val_accuracy did not improve from 0.80937\n",
      "45/45 [==============================] - 294s 7s/step - loss: 0.4263 - accuracy: 0.8188 - val_loss: 0.4888 - val_accuracy: 0.8031\n",
      "Epoch 15/100\n",
      "45/45 [==============================] - ETA: 0s - loss: 0.4180 - accuracy: 0.8257\n",
      "Epoch 15: val_accuracy did not improve from 0.80937\n",
      "45/45 [==============================] - 292s 6s/step - loss: 0.4180 - accuracy: 0.8257 - val_loss: 0.4791 - val_accuracy: 0.8000\n",
      "Epoch 16/100\n",
      "45/45 [==============================] - ETA: 0s - loss: 0.4176 - accuracy: 0.8236\n",
      "Epoch 16: val_accuracy improved from 0.80937 to 0.81250, saving model to Breast_Cancer_VGG16_model.weights.best.h5\n",
      "45/45 [==============================] - 291s 6s/step - loss: 0.4176 - accuracy: 0.8236 - val_loss: 0.4758 - val_accuracy: 0.8125\n",
      "Epoch 17/100\n",
      "45/45 [==============================] - ETA: 0s - loss: 0.4076 - accuracy: 0.8243\n",
      "Epoch 17: val_accuracy improved from 0.81250 to 0.81875, saving model to Breast_Cancer_VGG16_model.weights.best.h5\n",
      "45/45 [==============================] - 291s 6s/step - loss: 0.4076 - accuracy: 0.8243 - val_loss: 0.4757 - val_accuracy: 0.8188\n",
      "Epoch 18/100\n",
      "45/45 [==============================] - ETA: 0s - loss: 0.4107 - accuracy: 0.8250\n",
      "Epoch 18: val_accuracy did not improve from 0.81875\n",
      "45/45 [==============================] - 290s 6s/step - loss: 0.4107 - accuracy: 0.8250 - val_loss: 0.4684 - val_accuracy: 0.8094\n",
      "Epoch 19/100\n",
      "45/45 [==============================] - ETA: 0s - loss: 0.4069 - accuracy: 0.8264\n",
      "Epoch 19: val_accuracy did not improve from 0.81875\n",
      "45/45 [==============================] - 287s 6s/step - loss: 0.4069 - accuracy: 0.8264 - val_loss: 0.4693 - val_accuracy: 0.8125\n",
      "Epoch 20/100\n",
      "45/45 [==============================] - ETA: 0s - loss: 0.4058 - accuracy: 0.8302\n",
      "Epoch 20: val_accuracy did not improve from 0.81875\n",
      "45/45 [==============================] - 287s 6s/step - loss: 0.4058 - accuracy: 0.8302 - val_loss: 0.4623 - val_accuracy: 0.8125\n",
      "Epoch 21/100\n",
      "45/45 [==============================] - ETA: 0s - loss: 0.4041 - accuracy: 0.8333\n",
      "Epoch 21: val_accuracy did not improve from 0.81875\n",
      "45/45 [==============================] - 287s 6s/step - loss: 0.4041 - accuracy: 0.8333 - val_loss: 0.4692 - val_accuracy: 0.8031\n",
      "Epoch 22/100\n",
      "45/45 [==============================] - ETA: 0s - loss: 0.3990 - accuracy: 0.8326\n",
      "Epoch 22: val_accuracy did not improve from 0.81875\n",
      "45/45 [==============================] - 285s 6s/step - loss: 0.3990 - accuracy: 0.8326 - val_loss: 0.4564 - val_accuracy: 0.8188\n",
      "Epoch 22: early stopping\n"
     ]
    }
   ],
   "source": [
    "vgg_history = vgg_model.fit(train_batches, validation_data = valid_batches, epochs = 100, \n",
    "                    callbacks = [callbacks], verbose = 1)"
   ]
  },
  {
   "cell_type": "code",
   "execution_count": 26,
   "metadata": {},
   "outputs": [],
   "source": [
    "vgg_model.load_weights(\"Breast_Cancer_VGG16_model.weights.best.h5\")"
   ]
  },
  {
   "cell_type": "code",
   "execution_count": 30,
   "metadata": {},
   "outputs": [],
   "source": [
    "vgg_model.save(\"VGG16_mode.h5\")"
   ]
  },
  {
   "cell_type": "markdown",
   "metadata": {},
   "source": [
    "### Load Model"
   ]
  },
  {
   "cell_type": "code",
   "execution_count": 19,
   "metadata": {},
   "outputs": [],
   "source": [
    "vgg_model = tf.keras.models.load_model(\"VGG16_mode.h5\")"
   ]
  },
  {
   "cell_type": "markdown",
   "metadata": {},
   "source": [
    "### Evalutaion"
   ]
  },
  {
   "cell_type": "code",
   "execution_count": 20,
   "metadata": {},
   "outputs": [
    {
     "name": "stdout",
     "output_type": "stream",
     "text": [
      "13/13 - 68s - loss: 0.4661 - accuracy: 0.8200 - 68s/epoch - 5s/step\n",
      "Restored model, accuracy: 82.00%\n",
      "Restored model, loss: 46.61%\n"
     ]
    }
   ],
   "source": [
    "vgg_model_loss, vgg_model_accuracy = vgg_model.evaluate(test_batches, verbose=2)\n",
    "print(\"Restored model, accuracy: {:5.2f}%\".format(100 * vgg_model_accuracy))\n",
    "print(\"Restored model, loss: {:5.2f}%\".format(100 * vgg_model_loss))"
   ]
  },
  {
   "cell_type": "markdown",
   "metadata": {},
   "source": [
    "### Confusion Matrix"
   ]
  },
  {
   "cell_type": "code",
   "execution_count": 130,
   "metadata": {},
   "outputs": [
    {
     "data": {
      "image/png": "[encoded data removed]",
      "text/plain": [
       "<Figure size 576x576 with 2 Axes>"
      ]
     },
     "metadata": {
      "needs_background": "light"
     },
     "output_type": "display_data"
    }
   ],
   "source": [
    "Y_pred_vgg = vgg_model.predict_generator(test_batches, test_df.shape[0] // batch_size+1)\n",
    "y_pred_vgg = np.where(Y_pred_vgg >= 0.5, 1, 0).flatten()\n",
    "vgg_cm = confusion_matrix(test_batches.classes, y_pred_vgg)\n",
    "f,ax = plt.subplots(figsize=(8, 8))\n",
    "sns.heatmap(vgg_cm, annot=True, linewidths=0.01,cmap=\"OrRd\",linecolor=\"black\", fmt= '.1f',ax=ax)\n",
    "plt.xlabel(\"Predicted Label\")\n",
    "plt.ylabel(\"True Label\")\n",
    "plt.title(\"Confusion Matrix of VGG16\")\n",
    "plt.show()"
   ]
  },
  {
   "cell_type": "markdown",
   "metadata": {},
   "source": [
    "### Classification Report"
   ]
  },
  {
   "cell_type": "code",
   "execution_count": 131,
   "metadata": {},
   "outputs": [
    {
     "name": "stdout",
     "output_type": "stream",
     "text": [
      "              precision    recall  f1-score   support\n",
      "\n",
      "           0       0.79      0.89      0.83       407\n",
      "           1       0.87      0.75      0.80       393\n",
      "\n",
      "    accuracy                           0.82       800\n",
      "   macro avg       0.83      0.82      0.82       800\n",
      "weighted avg       0.83      0.82      0.82       800\n",
      "\n"
     ]
    }
   ],
   "source": [
    "print(classification_report(test_batches.classes, y_pred_vgg, target_names=['0', '1']))"
   ]
  },
  {
   "cell_type": "markdown",
   "metadata": {},
   "source": [
    "### Prediction"
   ]
  },
  {
   "cell_type": "code",
   "execution_count": 141,
   "metadata": {},
   "outputs": [
    {
     "data": {
      "image/png": "[encoded data removed]",
      "text/plain": [
       "<Figure size 720x720 with 2 Axes>"
      ]
     },
     "metadata": {},
     "output_type": "display_data"
    }
   ],
   "source": [
    "def prediction_for_vgg16(dataframe):\n",
    "    plt.figure(figsize=(10,10))\n",
    "    \n",
    "    for i, v in enumerate([0, 799]):\n",
    "        plt.subplot(1,2,i+1)\n",
    "        image = cv2.imread(dataframe.loc[v, \"path\"])\n",
    "\n",
    "        # create input data\n",
    "        image_fromarray = Image.fromarray(image, 'RGB')\n",
    "        resize_image = image_fromarray.resize((224, 224))\n",
    "        expand_input = np.expand_dims(resize_image, axis=0)\n",
    "        input_data = np.array(expand_input)\n",
    "        input_data = input_data/255\n",
    "\n",
    "        # prediction\n",
    "        prediction = vgg_model.predict(input_data)\n",
    "\n",
    "        # plot the image\n",
    "        plt.xticks([])\n",
    "        plt.yticks([])\n",
    "        plt.grid(False)\n",
    "        plt.imshow(image, cmap=plt.cm.binary)\n",
    "        plt.title(\"Actual: %s\" % (\"Non-IDC\" if int(dataframe.loc[v, \"target\"]) == 0 else \"IDC\") )\n",
    "        plt.xlabel(\"Predict: %s\" % (\"IDC\" if prediction >= 0.5 else \"Non-IDC\"))\n",
    "        \n",
    "    plt.show()\n",
    "\n",
    "prediction_for_vgg16(test_df)"
   ]
  }
 ],
 "metadata": {
  "kernelspec": {
   "display_name": "Python 3",
   "language": "python",
   "name": "python3"
  },
  "language_info": {
   "codemirror_mode": {
    "name": "ipython",
    "version": 3
   },
   "file_extension": ".py",
   "mimetype": "text/x-python",
   "name": "python",
   "nbconvert_exporter": "python",
   "pygments_lexer": "ipython3",
   "version": "3.8.5"
  }
 },
 "nbformat": 4,
 "nbformat_minor": 4
}

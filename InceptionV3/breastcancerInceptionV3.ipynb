{
 "cells": [
  {
   "cell_type": "markdown",
   "id": "76d06ce7-847b-4fd4-ac31-a8c109e2c413",
   "metadata": {},
   "source": [
    "Importing necessary libraries"
   ]
  },
  {
   "cell_type": "code",
   "execution_count": 43,
   "id": "98def7b5-c2da-4d17-93f2-2c4d7a90735e",
   "metadata": {},
   "outputs": [],
   "source": [
    "import warnings\n",
    "warnings.filterwarnings(\"ignore\", category=DeprecationWarning)\n",
    "warnings.filterwarnings(\"ignore\", category=UserWarning)\n",
    "warnings.filterwarnings(\"ignore\", category=FutureWarning)\n",
    "\n",
    "import json\n",
    "import os\n",
    "from os import listdir\n",
    "import cv2\n",
    "from PIL import Image\n",
    "import seaborn as sns\n",
    "sns.set()\n",
    "\n",
    "import numpy as np\n",
    "import pandas as pd\n",
    "import matplotlib.pyplot as plt\n",
    "%matplotlib inline\n",
    "\n",
    "import tensorflow as tf\n",
    "from tensorflow import keras\n",
    "from tensorflow.keras import layers\n",
    "from tensorflow.keras.utils import plot_model\n",
    "from tensorflow.keras.preprocessing.image import ImageDataGenerator\n",
    "\n",
    "from sklearn.model_selection import train_test_split\n",
    "from sklearn.metrics import classification_report, confusion_matrix\n",
    "from tensorflow.keras.applications.inception_v3 import InceptionV3\n",
    "from keras.models import Sequential\n",
    "from keras.layers import Dense, Dropout, Activation, Flatten, BatchNormalization, Conv2D, MaxPool2D, MaxPooling2D\n",
    "from tensorflow.keras.callbacks import ReduceLROnPlateau, ModelCheckpoint, EarlyStopping\n",
    "from sklearn.metrics import classification_report, confusion_matrix"
   ]
  },
  {
   "cell_type": "markdown",
   "id": "ae7838b4-82f5-43dc-ace7-990d279d195c",
   "metadata": {},
   "source": [
    "Load Dataset and Preprocess Data"
   ]
  },
  {
   "cell_type": "code",
   "execution_count": 2,
   "id": "03c2f54a-a018-472d-902e-307f4d64a48f",
   "metadata": {},
   "outputs": [
    {
     "data": {
      "text/plain": [
       "279"
      ]
     },
     "execution_count": 2,
     "metadata": {},
     "output_type": "execute_result"
    }
   ],
   "source": [
    "base_path = \"C:/Users/umroot/Downloads/Dataset_ml/IDC_regular_ps50_idx5/\"\n",
    "folder = listdir(base_path)\n",
    "len(folder)"
   ]
  },
  {
   "cell_type": "code",
   "execution_count": 3,
   "id": "051d864e-74f2-41e4-b1e2-9be6571632a1",
   "metadata": {},
   "outputs": [
    {
     "data": {
      "text/plain": [
       "277524"
      ]
     },
     "execution_count": 3,
     "metadata": {},
     "output_type": "execute_result"
    }
   ],
   "source": [
    "total_images = 0\n",
    "for n in range(len(folder)):\n",
    "    patient_id = folder[n]\n",
    "    for c in [0, 1]:\n",
    "        patient_path = base_path + patient_id \n",
    "        class_path = patient_path + \"/\" + str(c) + \"/\"\n",
    "        subfiles = listdir(class_path)\n",
    "        total_images += len(subfiles)\n",
    "        \n",
    "total_images"
   ]
  },
  {
   "cell_type": "code",
   "execution_count": 4,
   "id": "3a2a061b-3e73-4cb7-9ddd-17aef29b238f",
   "metadata": {},
   "outputs": [
    {
     "data": {
      "text/html": [
       "<div>\n",
       "<style scoped>\n",
       "    .dataframe tbody tr th:only-of-type {\n",
       "        vertical-align: middle;\n",
       "    }\n",
       "\n",
       "    .dataframe tbody tr th {\n",
       "        vertical-align: top;\n",
       "    }\n",
       "\n",
       "    .dataframe thead th {\n",
       "        text-align: right;\n",
       "    }\n",
       "</style>\n",
       "<table border=\"1\" class=\"dataframe\">\n",
       "  <thead>\n",
       "    <tr style=\"text-align: right;\">\n",
       "      <th></th>\n",
       "      <th>patient_id</th>\n",
       "      <th>path</th>\n",
       "      <th>target</th>\n",
       "    </tr>\n",
       "  </thead>\n",
       "  <tbody>\n",
       "    <tr>\n",
       "      <th>0</th>\n",
       "      <td>10253</td>\n",
       "      <td>C:/Users/umroot/Downloads/Dataset_ml/IDC_regul...</td>\n",
       "      <td>0</td>\n",
       "    </tr>\n",
       "    <tr>\n",
       "      <th>1</th>\n",
       "      <td>10253</td>\n",
       "      <td>C:/Users/umroot/Downloads/Dataset_ml/IDC_regul...</td>\n",
       "      <td>0</td>\n",
       "    </tr>\n",
       "    <tr>\n",
       "      <th>2</th>\n",
       "      <td>10253</td>\n",
       "      <td>C:/Users/umroot/Downloads/Dataset_ml/IDC_regul...</td>\n",
       "      <td>0</td>\n",
       "    </tr>\n",
       "    <tr>\n",
       "      <th>3</th>\n",
       "      <td>10253</td>\n",
       "      <td>C:/Users/umroot/Downloads/Dataset_ml/IDC_regul...</td>\n",
       "      <td>0</td>\n",
       "    </tr>\n",
       "    <tr>\n",
       "      <th>4</th>\n",
       "      <td>10253</td>\n",
       "      <td>C:/Users/umroot/Downloads/Dataset_ml/IDC_regul...</td>\n",
       "      <td>0</td>\n",
       "    </tr>\n",
       "  </tbody>\n",
       "</table>\n",
       "</div>"
      ],
      "text/plain": [
       "  patient_id                                               path target\n",
       "0      10253  C:/Users/umroot/Downloads/Dataset_ml/IDC_regul...      0\n",
       "1      10253  C:/Users/umroot/Downloads/Dataset_ml/IDC_regul...      0\n",
       "2      10253  C:/Users/umroot/Downloads/Dataset_ml/IDC_regul...      0\n",
       "3      10253  C:/Users/umroot/Downloads/Dataset_ml/IDC_regul...      0\n",
       "4      10253  C:/Users/umroot/Downloads/Dataset_ml/IDC_regul...      0"
      ]
     },
     "execution_count": 4,
     "metadata": {},
     "output_type": "execute_result"
    }
   ],
   "source": [
    "data = pd.DataFrame(index=np.arange(0, total_images), columns=[\"patient_id\", \"path\", \"target\"])\n",
    "\n",
    "k = 0\n",
    "for n in range(len(folder)):\n",
    "    patient_id = folder[n]\n",
    "    patient_path = base_path + patient_id \n",
    "    for c in [0,1]:\n",
    "        class_path = patient_path + \"/\" + str(c) + \"/\"\n",
    "        subfiles = listdir(class_path)\n",
    "        for m in range(len(subfiles)):\n",
    "            image_path = subfiles[m]\n",
    "            data.iloc[k][\"path\"] = class_path + image_path\n",
    "            data.iloc[k][\"target\"] = c\n",
    "            data.iloc[k][\"patient_id\"] = patient_id\n",
    "            k += 1  \n",
    "\n",
    "data.head()"
   ]
  },
  {
   "cell_type": "code",
   "execution_count": 5,
   "id": "87974c2e-4977-4213-9662-c7bb1ca6e081",
   "metadata": {},
   "outputs": [
    {
     "name": "stdout",
     "output_type": "stream",
     "text": [
      "0    2000\n",
      "Name: target, dtype: int64\n",
      "1    2000\n",
      "Name: target, dtype: int64\n",
      "0    2000\n",
      "1    2000\n",
      "Name: target, dtype: int64\n"
     ]
    }
   ],
   "source": [
    "non_cancer_data = data.query(\"target == 0\").head(2000)\n",
    "print(non_cancer_data['target'].value_counts())\n",
    "cancer_data = data.query(\"target == 1\").head(2000)\n",
    "print(cancer_data['target'].value_counts())\n",
    "sliced_data = pd.concat([non_cancer_data,cancer_data])\n",
    "print(sliced_data['target'].value_counts())"
   ]
  },
  {
   "cell_type": "code",
   "execution_count": 6,
   "id": "02d8cf98-52c2-41e3-a301-77f4c867f663",
   "metadata": {},
   "outputs": [
    {
     "name": "stdout",
     "output_type": "stream",
     "text": [
      "0    2000\n",
      "1    2000\n",
      "Name: target, dtype: int64\n"
     ]
    }
   ],
   "source": [
    "print(sliced_data['target'].value_counts())"
   ]
  },
  {
   "cell_type": "code",
   "execution_count": 7,
   "id": "828e4f32-c43b-49fc-b8ad-052df886f097",
   "metadata": {},
   "outputs": [
    {
     "data": {
      "text/plain": [
       "array([0, 1], dtype=object)"
      ]
     },
     "execution_count": 7,
     "metadata": {},
     "output_type": "execute_result"
    }
   ],
   "source": [
    "sliced_data.target.unique()"
   ]
  },
  {
   "cell_type": "code",
   "execution_count": 8,
   "id": "dc7be449-6e34-4379-a15d-e153ad47fbe1",
   "metadata": {},
   "outputs": [
    {
     "data": {
      "text/plain": [
       "(4000, 3)"
      ]
     },
     "execution_count": 8,
     "metadata": {},
     "output_type": "execute_result"
    }
   ],
   "source": [
    "sliced_data.shape"
   ]
  },
  {
   "cell_type": "code",
   "execution_count": 9,
   "id": "91344bc2-7078-4591-949c-ab19554b6320",
   "metadata": {},
   "outputs": [
    {
     "name": "stdout",
     "output_type": "stream",
     "text": [
      "<class 'pandas.core.frame.DataFrame'>\n",
      "Int64Index: 4000 entries, 0 to 9253\n",
      "Data columns (total 3 columns):\n",
      " #   Column      Non-Null Count  Dtype \n",
      "---  ------      --------------  ----- \n",
      " 0   patient_id  4000 non-null   object\n",
      " 1   path        4000 non-null   object\n",
      " 2   target      4000 non-null   object\n",
      "dtypes: object(3)\n",
      "memory usage: 125.0+ KB\n"
     ]
    }
   ],
   "source": [
    "sliced_data.head()\n",
    "sliced_data.loc[:, \"target\"] = data.target.astype(np.str)\n",
    "sliced_data.info()"
   ]
  },
  {
   "cell_type": "code",
   "execution_count": 10,
   "id": "a5cc064e-4839-452e-8669-6a1085becf13",
   "metadata": {},
   "outputs": [],
   "source": [
    "unique_paths = sliced_data.path.unique()"
   ]
  },
  {
   "cell_type": "code",
   "execution_count": 11,
   "id": "6a5a7b7f-2688-4ad2-b3bf-6c08c027f69f",
   "metadata": {},
   "outputs": [],
   "source": [
    "sub_train_ids, test_ids = train_test_split(unique_paths,\n",
    "                                           test_size=0.2,\n",
    "                                           random_state=0)\n",
    "train_ids, valid_ids = train_test_split(sub_train_ids, test_size=0.1, random_state=0)"
   ]
  },
  {
   "cell_type": "code",
   "execution_count": 12,
   "id": "1f3f6d01-4e7a-449b-8404-e12c67e99c5c",
   "metadata": {},
   "outputs": [
    {
     "name": "stdout",
     "output_type": "stream",
     "text": [
      "Now, we're taking 72.0% for training, 8.0% for validation, 20.0% for testing\n"
     ]
    }
   ],
   "source": [
    "print(f\"Now, we're taking {round(len(train_ids)/unique_paths.shape[0]*100, 1)}% for training, {round(len(valid_ids)/unique_paths.shape[0]*100,1)}% for validation, {round(len(test_ids)/unique_paths.shape[0]*100,1)}% for testing\")\n"
   ]
  },
  {
   "cell_type": "code",
   "execution_count": 13,
   "id": "03c8b7de-dc8a-40bb-810a-81a0ef642951",
   "metadata": {},
   "outputs": [
    {
     "name": "stdout",
     "output_type": "stream",
     "text": [
      "2880, 320, 800\n"
     ]
    }
   ],
   "source": [
    "print(f'{len(train_ids)}, {len(valid_ids)}, {len(test_ids)}')"
   ]
  },
  {
   "cell_type": "code",
   "execution_count": 14,
   "id": "5deeedc0-4615-4239-aa9e-1ec594ce7ee5",
   "metadata": {},
   "outputs": [
    {
     "name": "stdout",
     "output_type": "stream",
     "text": [
      "train set shape: (2880, 3)\n",
      "test set shape: (800, 3)\n",
      "validation set shape: (320, 3)\n"
     ]
    }
   ],
   "source": [
    "train_df = sliced_data.loc[sliced_data.path.isin(train_ids),:].copy()\n",
    "test_df = sliced_data.loc[sliced_data.path.isin(test_ids),:].copy()\n",
    "valid_df = sliced_data.loc[sliced_data.path.isin(valid_ids),:].copy()\n",
    "\n",
    "print(f\"train set shape: {train_df.shape}\")\n",
    "print(f\"test set shape: {test_df.shape}\")\n",
    "print(f\"validation set shape: {valid_df.shape}\")"
   ]
  },
  {
   "cell_type": "code",
   "execution_count": 15,
   "id": "57bf2ea8-ebfc-491a-9a38-25fbe6989015",
   "metadata": {},
   "outputs": [],
   "source": [
    "train_df.reset_index(drop=True, inplace=True)\n",
    "test_df.reset_index(drop=True, inplace=True)\n",
    "valid_df.reset_index(drop=True, inplace=True)"
   ]
  },
  {
   "cell_type": "code",
   "execution_count": 16,
   "id": "62765668-b35e-42f4-8d89-f6042b96966d",
   "metadata": {},
   "outputs": [],
   "source": [
    "train_datagen = ImageDataGenerator(rescale = 1./255,\n",
    "                                   rotation_range = 40, \n",
    "                                   width_shift_range = 0.2, \n",
    "                                   height_shift_range = 0.2, \n",
    "                                   shear_range = 0.2, \n",
    "                                   zoom_range = 0.2, \n",
    "                                   horizontal_flip = True, \n",
    "                                   vertical_flip =True)\n",
    "test_datagen = ImageDataGenerator(rescale = 1./255)\n",
    "valid_datagen = ImageDataGenerator(rescale = 1./255)"
   ]
  },
  {
   "cell_type": "code",
   "execution_count": 17,
   "id": "a7714ffe-feaf-414c-89bf-e3968e929c41",
   "metadata": {},
   "outputs": [],
   "source": [
    "target_size = (224,224)\n",
    "batch_size = 64"
   ]
  },
  {
   "cell_type": "code",
   "execution_count": 18,
   "id": "f1477a38-386e-4a58-bc27-aa5e850b50a9",
   "metadata": {},
   "outputs": [
    {
     "name": "stdout",
     "output_type": "stream",
     "text": [
      "Found 2880 validated image filenames belonging to 2 classes.\n",
      "Found 320 validated image filenames belonging to 2 classes.\n",
      "Found 800 validated image filenames belonging to 2 classes.\n"
     ]
    }
   ],
   "source": [
    "train_batches = train_datagen.flow_from_dataframe(\n",
    "    train_df,\n",
    "    x_col = 'path', \n",
    "    y_col ='target',\n",
    "    target_size=target_size,\n",
    "    batch_size=batch_size,\n",
    "    class_mode='binary',\n",
    "    shuffle=True,\n",
    ")\n",
    "\n",
    "valid_batches = valid_datagen.flow_from_dataframe(\n",
    "    valid_df,\n",
    "    x_col = 'path', \n",
    "    y_col ='target',\n",
    "    target_size=target_size,\n",
    "    batch_size=batch_size,\n",
    "    class_mode='binary',\n",
    "    shuffle=True,\n",
    ")\n",
    "\n",
    "test_batches = test_datagen.flow_from_dataframe(\n",
    "    test_df,\n",
    "    x_col = 'path', \n",
    "    y_col ='target',\n",
    "    target_size=target_size,\n",
    "    batch_size=batch_size,\n",
    "    class_mode='binary',\n",
    "    shuffle=False,\n",
    ")"
   ]
  },
  {
   "cell_type": "markdown",
   "id": "77760bbe-8df4-43f3-9e42-c269ff1e788f",
   "metadata": {},
   "source": [
    "Target distributions"
   ]
  },
  {
   "cell_type": "code",
   "execution_count": 19,
   "id": "447d66b8-8c5b-49ce-9df5-9de1932b4dda",
   "metadata": {},
   "outputs": [
    {
     "data": {
      "image/png": "[encoded data removed]",
      "text/plain": [
       "<Figure size 1440x360 with 3 Axes>"
      ]
     },
     "metadata": {
      "needs_background": "light"
     },
     "output_type": "display_data"
    }
   ],
   "source": [
    "fig, ax = plt.subplots(1,3,figsize=(20,5))\n",
    "sns.countplot(train_df.target, ax=ax[0], palette=\"Reds\")\n",
    "ax[0].set_title(\"Train data\")\n",
    "sns.countplot(valid_df.target, ax=ax[1], palette=\"Blues\")\n",
    "ax[1].set_title(\"Valid data\")\n",
    "sns.countplot(test_df.target, ax=ax[2], palette=\"Greens\");\n",
    "ax[2].set_title(\"Test data\");"
   ]
  },
  {
   "cell_type": "markdown",
   "id": "c4d82079-b1b3-4a7f-bbba-69d42e826424",
   "metadata": {},
   "source": [
    "InceptionV3"
   ]
  },
  {
   "cell_type": "markdown",
   "id": "32d4a8d1-bccc-47cc-8e32-653e79dd3d79",
   "metadata": {},
   "source": [
    "Model Implementation"
   ]
  },
  {
   "cell_type": "code",
   "execution_count": 44,
   "id": "ccf86c32-5616-4df0-9640-9efe43e72422",
   "metadata": {},
   "outputs": [
    {
     "name": "stdout",
     "output_type": "stream",
     "text": [
      "Model: \"sequential_1\"\n",
      "_________________________________________________________________\n",
      " Layer (type)                Output Shape              Param #   \n",
      "=================================================================\n",
      " inception_v3 (Functional)   (None, 5, 5, 2048)        21802784  \n",
      "                                                                 \n",
      " dropout_1 (Dropout)         (None, 5, 5, 2048)        0         \n",
      "                                                                 \n",
      " flatten_1 (Flatten)         (None, 51200)             0         \n",
      "                                                                 \n",
      " output (Dense)              (None, 1)                 51201     \n",
      "                                                                 \n",
      "=================================================================\n",
      "Total params: 21,853,985\n",
      "Trainable params: 51,201\n",
      "Non-trainable params: 21,802,784\n",
      "_________________________________________________________________\n"
     ]
    }
   ],
   "source": [
    "def InceptionV3(base_model,save_model_path):\n",
    "    \"\"\"Explanation:\n",
    "    \n",
    "    Arguments\n",
    "    ---------\n",
    "    base_model :\n",
    "    tf.keras.applications.InceptionV3\n",
    "    --------\n",
    "    save_model_path : containing the path where to save the model.\n",
    "    \n",
    "    Returns\n",
    "    ---------\n",
    "    InceptionV3_model: keras.engine.functional.Functional\n",
    "    -------------\n",
    "    \"\"\" \n",
    "    \"\"\" Creating Model \"\"\"\n",
    "\n",
    "    base_model = base_model\n",
    "    \n",
    "    # Freezing Layers  \n",
    "    \"\"\"..Freezing the layers and making it non-training except the last three layers..\"\"\"\n",
    "    for layer in base_model.layers[:-3]:\n",
    "        \n",
    "        layer.trainable=False \n",
    "\n",
    "    \"\"\" ...Building Inception Model....\"\"\"\n",
    "    InceptionV3_model=Sequential() # Making it sequential \n",
    "    InceptionV3_model.add(base_model) # Adding the base_model to the sequencial model\n",
    "\n",
    "    \"\"\"Adding the Droupout and Flatten Layers\"\"\"\n",
    "    InceptionV3_model.add(Dropout(0.5))\n",
    "    InceptionV3_model.add(Flatten())\n",
    "\n",
    "    \"\"\"Adding Dense layer and sigmoid function\"\"\"\n",
    "    InceptionV3_model.add(Dense(1,activation='sigmoid',name='output'))\n",
    "\n",
    "    return InceptionV3_model\n",
    "\n",
    "\"\"\"Call this function to create inceptionV3 model...\"\"\"        \n",
    "InceptionV3_model = InceptionV3(base_model=tf.keras.applications.InceptionV3(input_shape=(224,224,3),include_top=False,weights=\"imagenet\"),save_model_path=\"C:/Users/umroot/Desktop/Ml/test/\")\n",
    "InceptionV3_model.summary() # Summary of the created model."
   ]
  },
  {
   "cell_type": "markdown",
   "id": "6a309a6f-9978-4ca2-ad91-7b52e1a557d5",
   "metadata": {},
   "source": [
    "Adding layer to network"
   ]
  },
  {
   "cell_type": "code",
   "execution_count": 27,
   "id": "7ba597cb-85a6-4fde-b7cc-923f966cced0",
   "metadata": {},
   "outputs": [
    {
     "name": "stdout",
     "output_type": "stream",
     "text": [
      "Model: \"sequential\"\n",
      "_________________________________________________________________\n",
      " Layer (type)                Output Shape              Param #   \n",
      "=================================================================\n",
      " inception_v3 (Functional)   (None, 5, 5, 2048)        21802784  \n",
      "                                                                 \n",
      " dropout (Dropout)           (None, 5, 5, 2048)        0         \n",
      "                                                                 \n",
      " flatten (Flatten)           (None, 51200)             0         \n",
      "                                                                 \n",
      " output (Dense)              (None, 1)                 51201     \n",
      "                                                                 \n",
      "=================================================================\n",
      "Total params: 21,853,985\n",
      "Trainable params: 51,201\n",
      "Non-trainable params: 21,802,784\n",
      "_________________________________________________________________\n"
     ]
    }
   ],
   "source": [
    "InceptionV3_model.summary()"
   ]
  },
  {
   "cell_type": "code",
   "execution_count": 30,
   "id": "af39ff1b-ecc5-448a-9a19-bcf44e083fb3",
   "metadata": {},
   "outputs": [],
   "source": [
    "InceptionV3_model.compile(loss='binary_crossentropy', optimizer=keras.optimizers.Adam(learning_rate= 0.0001), metrics=['accuracy'])"
   ]
  },
  {
   "cell_type": "code",
   "execution_count": 31,
   "id": "68d66304-ac93-4aa7-b5a4-ab0c46c75962",
   "metadata": {},
   "outputs": [],
   "source": [
    "model_checkpoints = tf.keras.callbacks.ModelCheckpoint(\n",
    "    \"Breast_Cancer_InceptionV3_model.weights.best.h5\", \n",
    "    save_best_only=True, \n",
    "    verbose = 1, \n",
    "    mode='max', \n",
    "    monitor='val_accuracy'\n",
    ")\n",
    "early_stopping = keras.callbacks.EarlyStopping(\n",
    "    monitor=\"val_accuracy\",\n",
    "    mode=\"max\",\n",
    "    patience=5,\n",
    "    verbose=1\n",
    ")\n",
    "\n",
    "callbacks = [\n",
    "    model_checkpoints,\n",
    "    early_stopping\n",
    "]"
   ]
  },
  {
   "cell_type": "code",
   "execution_count": 32,
   "id": "8b450ab9-8363-4d3d-8961-aaa390d2ebaa",
   "metadata": {},
   "outputs": [
    {
     "name": "stdout",
     "output_type": "stream",
     "text": [
      "Epoch 1/100\n",
      "45/45 [==============================] - ETA: 0s - loss: 0.6738 - accuracy: 0.7184\n",
      "Epoch 1: val_accuracy improved from -inf to 0.73750, saving model to Breast_Cancer_InceptionV3_model.weights.best.h5\n",
      "45/45 [==============================] - 382s 8s/step - loss: 0.6738 - accuracy: 0.7184 - val_loss: 0.5474 - val_accuracy: 0.7375\n",
      "Epoch 2/100\n",
      "45/45 [==============================] - ETA: 0s - loss: 0.4654 - accuracy: 0.8163\n",
      "Epoch 2: val_accuracy improved from 0.73750 to 0.82812, saving model to Breast_Cancer_InceptionV3_model.weights.best.h5\n",
      "45/45 [==============================] - 364s 8s/step - loss: 0.4654 - accuracy: 0.8163 - val_loss: 0.4339 - val_accuracy: 0.8281\n",
      "Epoch 3/100\n",
      "45/45 [==============================] - ETA: 0s - loss: 0.4454 - accuracy: 0.8278\n",
      "Epoch 3: val_accuracy did not improve from 0.82812\n",
      "45/45 [==============================] - 359s 8s/step - loss: 0.4454 - accuracy: 0.8278 - val_loss: 0.5345 - val_accuracy: 0.7875\n",
      "Epoch 4/100\n",
      "45/45 [==============================] - ETA: 0s - loss: 0.4243 - accuracy: 0.8378\n",
      "Epoch 4: val_accuracy did not improve from 0.82812\n",
      "45/45 [==============================] - 361s 8s/step - loss: 0.4243 - accuracy: 0.8378 - val_loss: 0.4429 - val_accuracy: 0.8219\n",
      "Epoch 5/100\n",
      "45/45 [==============================] - ETA: 0s - loss: 0.4402 - accuracy: 0.8434\n",
      "Epoch 5: val_accuracy improved from 0.82812 to 0.83125, saving model to Breast_Cancer_InceptionV3_model.weights.best.h5\n",
      "45/45 [==============================] - 361s 8s/step - loss: 0.4402 - accuracy: 0.8434 - val_loss: 0.4220 - val_accuracy: 0.8313\n",
      "Epoch 6/100\n",
      "45/45 [==============================] - ETA: 0s - loss: 0.3758 - accuracy: 0.8587\n",
      "Epoch 6: val_accuracy improved from 0.83125 to 0.85312, saving model to Breast_Cancer_InceptionV3_model.weights.best.h5\n",
      "45/45 [==============================] - 367s 8s/step - loss: 0.3758 - accuracy: 0.8587 - val_loss: 0.3875 - val_accuracy: 0.8531\n",
      "Epoch 7/100\n",
      "45/45 [==============================] - ETA: 0s - loss: 0.4136 - accuracy: 0.8444\n",
      "Epoch 7: val_accuracy did not improve from 0.85312\n",
      "45/45 [==============================] - 358s 8s/step - loss: 0.4136 - accuracy: 0.8444 - val_loss: 0.3871 - val_accuracy: 0.8531\n",
      "Epoch 8/100\n",
      "45/45 [==============================] - ETA: 0s - loss: 0.3935 - accuracy: 0.8542\n",
      "Epoch 8: val_accuracy improved from 0.85312 to 0.85625, saving model to Breast_Cancer_InceptionV3_model.weights.best.h5\n",
      "45/45 [==============================] - 317s 7s/step - loss: 0.3935 - accuracy: 0.8542 - val_loss: 0.3842 - val_accuracy: 0.8562\n",
      "Epoch 9/100\n",
      "45/45 [==============================] - ETA: 0s - loss: 0.3777 - accuracy: 0.8594\n",
      "Epoch 9: val_accuracy did not improve from 0.85625\n",
      "45/45 [==============================] - 298s 7s/step - loss: 0.3777 - accuracy: 0.8594 - val_loss: 0.4443 - val_accuracy: 0.8406\n",
      "Epoch 10/100\n",
      "45/45 [==============================] - ETA: 0s - loss: 0.3516 - accuracy: 0.8712\n",
      "Epoch 10: val_accuracy improved from 0.85625 to 0.86563, saving model to Breast_Cancer_InceptionV3_model.weights.best.h5\n",
      "45/45 [==============================] - 302s 7s/step - loss: 0.3516 - accuracy: 0.8712 - val_loss: 0.4024 - val_accuracy: 0.8656\n",
      "Epoch 11/100\n",
      "45/45 [==============================] - ETA: 0s - loss: 0.3709 - accuracy: 0.8656\n",
      "Epoch 11: val_accuracy improved from 0.86563 to 0.87500, saving model to Breast_Cancer_InceptionV3_model.weights.best.h5\n",
      "45/45 [==============================] - 308s 7s/step - loss: 0.3709 - accuracy: 0.8656 - val_loss: 0.3762 - val_accuracy: 0.8750\n",
      "Epoch 12/100\n",
      "45/45 [==============================] - ETA: 0s - loss: 0.3621 - accuracy: 0.8681\n",
      "Epoch 12: val_accuracy did not improve from 0.87500\n",
      "45/45 [==============================] - 301s 7s/step - loss: 0.3621 - accuracy: 0.8681 - val_loss: 0.3824 - val_accuracy: 0.8719\n",
      "Epoch 13/100\n",
      "45/45 [==============================] - ETA: 0s - loss: 0.3695 - accuracy: 0.8628\n",
      "Epoch 13: val_accuracy improved from 0.87500 to 0.87813, saving model to Breast_Cancer_InceptionV3_model.weights.best.h5\n",
      "45/45 [==============================] - 302s 7s/step - loss: 0.3695 - accuracy: 0.8628 - val_loss: 0.3749 - val_accuracy: 0.8781\n",
      "Epoch 14/100\n",
      "45/45 [==============================] - ETA: 0s - loss: 0.3587 - accuracy: 0.8753\n",
      "Epoch 14: val_accuracy improved from 0.87813 to 0.88125, saving model to Breast_Cancer_InceptionV3_model.weights.best.h5\n",
      "45/45 [==============================] - 302s 7s/step - loss: 0.3587 - accuracy: 0.8753 - val_loss: 0.3714 - val_accuracy: 0.8813\n",
      "Epoch 15/100\n",
      "45/45 [==============================] - ETA: 0s - loss: 0.3327 - accuracy: 0.8747\n",
      "Epoch 15: val_accuracy did not improve from 0.88125\n",
      "45/45 [==============================] - 302s 7s/step - loss: 0.3327 - accuracy: 0.8747 - val_loss: 0.3742 - val_accuracy: 0.8750\n",
      "Epoch 16/100\n",
      "45/45 [==============================] - ETA: 0s - loss: 0.3499 - accuracy: 0.8674\n",
      "Epoch 16: val_accuracy did not improve from 0.88125\n",
      "45/45 [==============================] - 304s 7s/step - loss: 0.3499 - accuracy: 0.8674 - val_loss: 0.3869 - val_accuracy: 0.8781\n",
      "Epoch 17/100\n",
      "45/45 [==============================] - ETA: 0s - loss: 0.3591 - accuracy: 0.8712\n",
      "Epoch 17: val_accuracy did not improve from 0.88125\n",
      "45/45 [==============================] - 298s 7s/step - loss: 0.3591 - accuracy: 0.8712 - val_loss: 0.3675 - val_accuracy: 0.8719\n",
      "Epoch 18/100\n",
      "45/45 [==============================] - ETA: 0s - loss: 0.3481 - accuracy: 0.8687\n",
      "Epoch 18: val_accuracy did not improve from 0.88125\n",
      "45/45 [==============================] - 298s 7s/step - loss: 0.3481 - accuracy: 0.8687 - val_loss: 0.3684 - val_accuracy: 0.8781\n",
      "Epoch 19/100\n",
      "45/45 [==============================] - ETA: 0s - loss: 0.3595 - accuracy: 0.8722\n",
      "Epoch 19: val_accuracy did not improve from 0.88125\n",
      "45/45 [==============================] - 298s 7s/step - loss: 0.3595 - accuracy: 0.8722 - val_loss: 0.4304 - val_accuracy: 0.8562\n",
      "Epoch 19: early stopping\n"
     ]
    }
   ],
   "source": [
    "inception_history = InceptionV3_model.fit(train_batches, validation_data = valid_batches, epochs = 100, \n",
    "                    callbacks = [callbacks], verbose = 1)"
   ]
  },
  {
   "cell_type": "code",
   "execution_count": 33,
   "id": "abc9b449-afcd-4bbd-9f3c-fab1a408b56f",
   "metadata": {},
   "outputs": [],
   "source": [
    "#Saving the models\n",
    "InceptionV3_model.save(\"C:/Users/umroot/Desktop/Ml/inceptionv3_model.h5\")"
   ]
  },
  {
   "cell_type": "code",
   "execution_count": 34,
   "id": "c6bd10fd-8aa0-451e-a2c0-5a7ffd4131a6",
   "metadata": {},
   "outputs": [
    {
     "name": "stdout",
     "output_type": "stream",
     "text": [
      "13/13 - 72s - loss: 0.3769 - accuracy: 0.8788 - 72s/epoch - 6s/step\n",
      "Restored model, accuracy: 87.88%\n",
      "Restored model, loss: 37.69%\n"
     ]
    }
   ],
   "source": [
    "inception_model_loss, inception_model_accuracy = InceptionV3_model.evaluate(test_batches, verbose=2)\n",
    "print(\"Restored model, accuracy: {:5.2f}%\".format(100 * inception_model_accuracy))\n",
    "print(\"Restored model, loss: {:5.2f}%\".format(100 * inception_model_loss))"
   ]
  },
  {
   "cell_type": "code",
   "execution_count": 35,
   "id": "219d5585-fbc3-4403-b09d-23f3ca820f7f",
   "metadata": {},
   "outputs": [
    {
     "data": {
      "image/png": "[encoded data removed]",
      "text/plain": [
       "<Figure size 432x288 with 1 Axes>"
      ]
     },
     "metadata": {
      "needs_background": "light"
     },
     "output_type": "display_data"
    },
    {
     "data": {
      "text/plain": [
       "<Figure size 432x288 with 0 Axes>"
      ]
     },
     "metadata": {},
     "output_type": "display_data"
    }
   ],
   "source": [
    "#Loss\n",
    "plt.plot(inception_history.history['loss'], label='Train Loss')\n",
    "plt.plot(inception_history.history['val_loss'], label='Validation Loss')\n",
    "plt.title(\"InceptionV3 Model Loss\")\n",
    "plt.ylabel(\"Loss\")\n",
    "plt.xlabel(\"Epoch\")\n",
    "plt.legend()\n",
    "plt.show()\n",
    "plt.savefig('LossVal_loss')"
   ]
  },
  {
   "cell_type": "code",
   "execution_count": 36,
   "id": "5815232b-b1f2-4661-89ce-1f002eeca8b1",
   "metadata": {},
   "outputs": [
    {
     "data": {
      "image/png": "[encoded data removed]",
      "text/plain": [
       "<Figure size 432x288 with 1 Axes>"
      ]
     },
     "metadata": {
      "needs_background": "light"
     },
     "output_type": "display_data"
    },
    {
     "data": {
      "text/plain": [
       "<Figure size 432x288 with 0 Axes>"
      ]
     },
     "metadata": {},
     "output_type": "display_data"
    }
   ],
   "source": [
    "#Accuracies\n",
    "plt.plot(inception_history.history['accuracy'], label='Train Accuracy')\n",
    "plt.plot(inception_history.history['val_accuracy'], label='Validation Accuracy')\n",
    "plt.title(\"InceptionV3 Model Accuracy\")\n",
    "plt.ylabel(\"Accuracy\")\n",
    "plt.xlabel(\"Epoch\")\n",
    "plt.legend()\n",
    "plt.show()\n",
    "plt.savefig('AccVal_acc')"
   ]
  },
  {
   "cell_type": "code",
   "execution_count": 38,
   "id": "f032c422-2e13-4df2-bcce-fc2c971dec37",
   "metadata": {},
   "outputs": [
    {
     "data": {
      "image/png": "[encoded data removed]",
      "text/plain": [
       "<Figure size 576x576 with 2 Axes>"
      ]
     },
     "metadata": {
      "needs_background": "light"
     },
     "output_type": "display_data"
    }
   ],
   "source": [
    "\n",
    "Y_pred_inception = InceptionV3_model.predict_generator(test_batches, test_df.shape[0] // batch_size+1)\n",
    "y_pred_inception = np.where(Y_pred_inception > 0.5, 1, 0).flatten()\n",
    "inception_cm = confusion_matrix(test_batches.classes, y_pred_inception)\n",
    "f,ax = plt.subplots(figsize=(8, 8))\n",
    "sns.heatmap(inception_cm, annot=True, linewidths=0.01,cmap=\"Purples\",linecolor=\"black\", fmt= '.1f',ax=ax)\n",
    "plt.xlabel(\"Predicted Label\")\n",
    "plt.ylabel(\"True Label\")\n",
    "plt.title(\"Confusion Matrix of InceptionV3\")\n",
    "plt.show()"
   ]
  },
  {
   "cell_type": "code",
   "execution_count": 39,
   "id": "0b416b85-21a9-4886-858e-f01aba17a2f5",
   "metadata": {},
   "outputs": [
    {
     "name": "stdout",
     "output_type": "stream",
     "text": [
      "              precision    recall  f1-score   support\n",
      "\n",
      "           0       0.95      0.81      0.87       407\n",
      "           1       0.83      0.95      0.89       393\n",
      "\n",
      "    accuracy                           0.88       800\n",
      "   macro avg       0.89      0.88      0.88       800\n",
      "weighted avg       0.89      0.88      0.88       800\n",
      "\n"
     ]
    }
   ],
   "source": [
    "print(classification_report(test_batches.classes, y_pred_inception, target_names=['0', '1']))"
   ]
  },
  {
   "cell_type": "code",
   "execution_count": 41,
   "id": "6e9239e1-294c-4932-b53b-a73b2c7c6896",
   "metadata": {},
   "outputs": [],
   "source": [
    "from tensorflow.keras.models import load_model\n",
    "model=load_model(\"inceptionv3_mode.h5\")"
   ]
  },
  {
   "cell_type": "code",
   "execution_count": 42,
   "id": "def9d21c-b7fd-43b4-9d5b-8bb1495a175d",
   "metadata": {},
   "outputs": [
    {
     "data": {
      "image/png": "[encoded data removed]",
      "text/plain": [
       "<Figure size 720x720 with 2 Axes>"
      ]
     },
     "metadata": {},
     "output_type": "display_data"
    }
   ],
   "source": [
    "from PIL import Image\n",
    "def prediction_for_inceptionv3(dataframe):\n",
    "    plt.figure(figsize=(10,10))\n",
    "    \n",
    "    for i, v in enumerate([0, 799]):\n",
    "        plt.subplot(1,2,i+1)\n",
    "        image = cv2.imread(dataframe.loc[v, \"path\"])\n",
    "\n",
    "        # create input data\n",
    "        image_fromarray = Image.fromarray(image, 'RGB')\n",
    "        resize_image = image_fromarray.resize((224, 224))\n",
    "        expand_input = np.expand_dims(resize_image, axis=0)\n",
    "        input_data = np.array(expand_input)\n",
    "        input_data = input_data/255\n",
    "\n",
    "        # prediction\n",
    "        prediction = model.predict(input_data)\n",
    "\n",
    "        # plot the image\n",
    "        plt.xticks([])\n",
    "        plt.yticks([])\n",
    "        plt.grid(False)\n",
    "        plt.imshow(image, cmap=plt.cm.binary)\n",
    "        plt.title(\"Actual: %s\" % (\"Non-IDC\" if int(dataframe.loc[v, \"target\"]) == 0 else \"IDC\") )\n",
    "        plt.xlabel(\"Predict: %s\" % (\"IDC\" if prediction >= 0.5 else \"Non-IDC\"))\n",
    "        \n",
    "    plt.show()\n",
    "\n",
    "prediction_for_inceptionv3(test_df)"
   ]
  },
  {
   "cell_type": "code",
   "execution_count": null,
   "id": "e5473f09-2214-4b8c-9d93-d219665ce918",
   "metadata": {},
   "outputs": [],
   "source": []
  }
 ],
 "metadata": {
  "kernelspec": {
   "display_name": "Python 3 (ipykernel)",
   "language": "python",
   "name": "python3"
  },
  "language_info": {
   "codemirror_mode": {
    "name": "ipython",
    "version": 3
   },
   "file_extension": ".py",
   "mimetype": "text/x-python",
   "name": "python",
   "nbconvert_exporter": "python",
   "pygments_lexer": "ipython3",
   "version": "3.8.12"
  }
 },
 "nbformat": 4,
 "nbformat_minor": 5
}

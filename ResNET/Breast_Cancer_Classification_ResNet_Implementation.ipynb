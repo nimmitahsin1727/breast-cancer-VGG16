{
 "cells": [
  {
   "cell_type": "code",
   "execution_count": null,
   "id": "69f692c5",
   "metadata": {},
   "outputs": [],
   "source": [
    "#Imports\n",
    "import torch\n",
    "import numpy as np \n",
    "import time # For meassuring running time of the training.\n",
    "\n",
    "## For getting the local py files\n",
    "# For Google Drive\n",
    "#import sys\n",
    "#sys.path.append('/content/drive/MyDrive/Master/Semester III/Project/')\n",
    "\n",
    "from ResNET import Block, ResNET\n",
    "from helper_functions import to_categorical, calculate_accuracy, prepare_data_for_resnet\n",
    "\n",
    "# Disabling all the warnings in the final version\n",
    "import warnings\n",
    "warnings.filterwarnings(\"ignore\", category=DeprecationWarning)\n",
    "warnings.filterwarnings(\"ignore\", category=UserWarning)\n",
    "warnings.filterwarnings(\"ignore\", category=FutureWarning)"
   ]
  },
  {
   "cell_type": "code",
   "execution_count": 2,
   "id": "daccaea9",
   "metadata": {},
   "outputs": [],
   "source": [
    "path = './data/**/*.png'\n",
    "data_size = 10\n",
    "batch_size = 2\n",
    "train_loader, valid_loader, test_loader = prepare_data_for_resnet(path, data_size, batch_size)"
   ]
  },
  {
   "cell_type": "markdown",
   "id": "327d12c2",
   "metadata": {},
   "source": [
    "### Model Implementation"
   ]
  },
  {
   "cell_type": "markdown",
   "id": "1a8d2586",
   "metadata": {},
   "source": [
    "#### Configurations"
   ]
  },
  {
   "cell_type": "code",
   "execution_count": null,
   "id": "f5e0da23",
   "metadata": {},
   "outputs": [],
   "source": [
    "#Configurations\n",
    "\n",
    "num_epochs = 50\n",
    "lr = 0.001\n",
    "batch_size = 128\n",
    "device = torch.device(\"cuda:0\" if torch.cuda.is_available() else \"cpu\")\n",
    "\n",
    "num_classes = 2\n",
    "img_channel = 3"
   ]
  },
  {
   "cell_type": "markdown",
   "id": "5ad07faa",
   "metadata": {},
   "source": [
    "__Assert block__ to check if the implemented Model class return the correct label dim"
   ]
  },
  {
   "cell_type": "code",
   "execution_count": null,
   "id": "a701beb8",
   "metadata": {},
   "outputs": [],
   "source": [
    "def test():\n",
    "    resnet = ResNET(Block, [3, 4, 6, 3], img_channel, num_classes)\n",
    "    _x = torch.randn(2, 3, 244, 244)\n",
    "    _y = resnet(_x).to(device)\n",
    "    return (_y.shape)\n",
    "assert test() == (2,2), “Y is wrong shape!”\n",
    "print(“Correct!“)"
   ]
  },
  {
   "cell_type": "markdown",
   "id": "dc29ec57",
   "metadata": {},
   "source": [
    "#### Initializing the ResNet Model"
   ]
  },
  {
   "cell_type": "code",
   "execution_count": null,
   "id": "615e590f",
   "metadata": {},
   "outputs": [],
   "source": [
    "# ResNET Layers [3, 4, 6, 3] for 34 and 50\n",
    "model = ResNET(Block, [3, 4, 6, 3], img_channel, num_classes)\n",
    "model.to(device)\n",
    "\n",
    "loss = torch.nn.CrossEntropyLoss()\n",
    "optimizer = torch.optim.Adam(model.parameters(), lr=lr)"
   ]
  },
  {
   "cell_type": "code",
   "execution_count": null,
   "id": "c7245857",
   "metadata": {},
   "outputs": [],
   "source": [
    "start_time = time.time()\n",
    "minibatch_loss_list, train_acc_list, valid_acc_list = [], [], []\n",
    "\n",
    "for epoch in range(num_epochs):\n",
    "    model = model.train()\n",
    "    for batch_idx, (features, targets) in enumerate(train_loader):\n",
    "        \n",
    "        features = features.to(device)\n",
    "        targets = targets.to(device)\n",
    "      \n",
    "        features = torch.tensor(features, dtype=torch.float32)\n",
    "        features = torch.transpose(features, 3, 1)#(x, 1, 3)\n",
    "        targets = torch.tensor(targets, dtype=torch.float32)\n",
    "      \n",
    "        logits = model(features)\n",
    "        cost = loss(logits, targets)\n",
    "        optimizer.zero_grad()\n",
    "        cost.backward()\n",
    "\n",
    "        optimizer.step()\n",
    "      \n",
    "        if not batch_idx % 50:\n",
    "            print ('Epoch: %03d/%03d | Batch %03d/%03d | Cost: %.4f' \n",
    "                    %(epoch+1, num_epochs, batch_idx, \n",
    "                      len(train_loader), cost))\n",
    "          \n",
    "    model = model.eval() # eval mode to prevent upd. batchnorm params during inference\n",
    "    with torch.set_grad_enabled(False):# save memory during inference\n",
    "        train_acc, train_pred = calculate_accuracy(model, train_loader)\n",
    "        valid_acc, valid_pred = calculate_accuracy(model, valid_loader)\n",
    "        print('Epoch: %03d/%03d training accuracy: %.2f%% | Validation accuracy: %.2f%%' % (\n",
    "              epoch+1, num_epochs, \n",
    "              train_acc, valid_acc))\n",
    "        train_acc_list.append(train_acc.item())\n",
    "        valid_acc_list.append(valid_acc.item())\n",
    "\n",
    "    print('Time elapsed: %.2f min' % ((time.time() - start_time)/60))\n",
    "\n",
    "print('Total Training Time: %.2f min' % ((time.time() - start_time)/60))"
   ]
  },
  {
   "cell_type": "code",
   "execution_count": null,
   "id": "ca424247",
   "metadata": {},
   "outputs": [],
   "source": [
    "# Saving the model for future use\n",
    "#torch.save(model.state_dict(), 'resNET_model.pth')"
   ]
  },
  {
   "cell_type": "markdown",
   "id": "f7243159",
   "metadata": {},
   "source": [
    "#### Display the accuracy Plot:"
   ]
  },
  {
   "cell_type": "code",
   "execution_count": null,
   "id": "7b4c9677",
   "metadata": {},
   "outputs": [],
   "source": [
    "import matplotlib.pyplot as plt\n",
    "\n",
    "num_epochs = len(train_acc_list)\n",
    "\n",
    "plt.plot(np.arange(1, num_epochs+1),\n",
    "          train_acc_list, label='Training')\n",
    "plt.plot(np.arange(1, num_epochs+1),\n",
    "          valid_acc_list, label='Validation')\n",
    "\n",
    "plt.xlabel('Epoch')\n",
    "plt.ylabel('Accuracy')\n",
    "plt.legend()\n",
    "\n",
    "plt.tight_layout()"
   ]
  },
  {
   "cell_type": "markdown",
   "id": "21da8456",
   "metadata": {},
   "source": [
    "#### Computing test accuracy and plotting a few examples with their predictions"
   ]
  },
  {
   "cell_type": "code",
   "execution_count": null,
   "id": "bc74e344",
   "metadata": {},
   "outputs": [],
   "source": [
    "acc, predictions = calculate_accuracy(model, test_loader)\n",
    "print('Test accuracy: %.2f%%' % (acc))\n",
    "\n",
    "#%% Training data visualization\n",
    "images, labels = next(iter(test_loader))\n",
    "\n",
    "plt.figure(figsize=(5,5))\n",
    "for i in range(9):\n",
    "    \n",
    "    plt.subplot(3, 3, i+1)\n",
    "    label = np.argmax( labels[i] ,axis=0)\n",
    "    \n",
    "    ## Debugging\n",
    "    #print(len(label))\n",
    "    #print(predictions.shape)\n",
    "    #print(images[i].shape, ' : ', images[i].permute(1, 2, 0).shape)\n",
    "    #print(predictions[i].item(), '|', label.item())\n",
    "    \n",
    "    str = F\"P: {predictions[i].item()},\\nL: {label.item()}\"\n",
    "    plt.title(str)\n",
    "    plt.imshow(images[i])\n",
    "    \n",
    "    plt.axis('off')\n",
    "\n",
    "plt.tight_layout()\n",
    "plt.show()"
   ]
  },
  {
   "cell_type": "code",
   "execution_count": null,
   "id": "fa794914",
   "metadata": {},
   "outputs": [],
   "source": [
    "from sklearn.metrics import classification_report, confusion_matrix\n",
    "import seaborn as sns\n",
    "sns.set()\n",
    "\n",
    "def get_predictions_and_labels(data_loader, device = 'cpu'):\n",
    "    \n",
    "    labels = None\n",
    "    logits = None\n",
    "    \n",
    "    for batch_idx, (features, targets) in enumerate(data_loader):\n",
    "        features = torch.tensor(features, dtype=torch.float32)\n",
    "        features = torch.transpose(features, 3, 1)#(x, 1, 3)\n",
    "        targets = torch.tensor(targets, dtype=torch.float32)\n",
    "        \n",
    "        features = features.to(device)\n",
    "        targets = targets.to(device)\n",
    "        \n",
    "        logits = model(features)\n",
    "        labels = targets\n",
    "    \n",
    "    labels = np.argmax( labels ,axis=1)\n",
    "    logits = np.argmax( logits.detach().numpy() ,axis=1)\n",
    "    \n",
    "    return labels, logits\n",
    "\n",
    "def get_classification_matrics(data_loader, target_names = ['0', '1'], device = 'cpu'):\n",
    "    labels, prediction = get_predictions_and_labels(data_loader, device)\n",
    "    \n",
    "    print(classification_report(labels, prediction, target_names=target_names))\n",
    "    \n",
    "    print_confusion_matrix(labels, prediction, \n",
    "                           title = 'Confusion Matrix of ResNET',\n",
    "                           x_lable = 'Predicted Label',\n",
    "                           y_lable = 'True Label')\n",
    "    \n",
    "def print_confusion_matrix(labels, prediction, title, x_lable, y_lable, fig_size = 5):\n",
    "    \n",
    "    resNet_cm = confusion_matrix(labels, prediction)\n",
    "    f,ax = plt.subplots(figsize=(fig_size, fig_size))\n",
    "    sns.heatmap(resNet_cm, annot=True, linewidths=0.01,cmap=\"OrRd\",linecolor=\"black\", fmt= '.1f',ax=ax)\n",
    "    plt.xlabel(y_lable)\n",
    "    plt.ylabel(x_lable)\n",
    "    plt.title(title)\n",
    "    plt.show()\n",
    "    \n",
    "\n",
    "get_classification_matrics(test_loader)"
   ]
  },
  {
   "cell_type": "markdown",
   "id": "e4789551",
   "metadata": {},
   "source": [
    "## That's all folks!"
   ]
  }
 ],
 "metadata": {
  "kernelspec": {
   "display_name": "Python 3 (ipykernel)",
   "language": "python",
   "name": "python3"
  },
  "language_info": {
   "codemirror_mode": {
    "name": "ipython",
    "version": 3
   },
   "file_extension": ".py",
   "mimetype": "text/x-python",
   "name": "python",
   "nbconvert_exporter": "python",
   "pygments_lexer": "ipython3",
   "version": "3.9.7"
  }
 },
 "nbformat": 4,
 "nbformat_minor": 5
}
